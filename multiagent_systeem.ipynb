{
 "cells": [
  {
   "cell_type": "markdown",
   "id": "60ff5e1d",
   "metadata": {},
   "source": [
    "# Introductie multiagent systems\n"
   ]
  },
  {
   "cell_type": "markdown",
   "id": "e320928a",
   "metadata": {},
   "source": [
    "__Hoofdstuk 3__: Introduction to Noncooperative Game\n",
    "Theory: Games in Normal Form"
   ]
  },
  {
   "cell_type": "markdown",
   "id": "11c3020d",
   "metadata": {},
   "source": [
    "### Belangrijke begrippen uitleggen"
   ]
  },
  {
   "cell_type": "markdown",
   "id": "de7e406f",
   "metadata": {},
   "source": [
    "$\\color{Green}{\\text{Utility & Utility function}}\\$\n",
    "\n",
    "Het hoofd idee van de utility theory is heel eenvoudig: de voorkeuren van een agent voor mogelijke uitkomsten kunnen worden vastgelegd door een functie die deze uitkomsten toewijst aan een reëel getal; hoe hoger het getal, hoe meer de agent van die uitkomst houdt. De functie wordt een Utility function genoemd.\n",
    "\n",
    "Uitilty based agents gaan altijd voor zo hoog mogelijk utility, daarbij proberen ze de uitilty functie te maximaliseren.\n"
   ]
  },
  {
   "cell_type": "markdown",
   "id": "a3326506",
   "metadata": {},
   "source": [
    "$\\color{Green}{\\text{Normal-form spellen}}\\$\n",
    "\n",
    "\n",
    "Normal form is een matrix representatie van een game. Hier hoort de volgende definition bij: \n",
    "\n",
    "\n",
    "\n",
    "$$\n",
    "    (N, A, u)\n",
    "    \\\\ N: Aantal\\ agents/players\n",
    "    \\\\ A: Set \\ van \\ de \\ mogelijke \\ acties, agent \\ i \\ heeft \\ set \\ A_i  \\ aan  \\ acties \n",
    "    \\\\u: Utility \\ functie/payoff, actie \\  i voor \\ een\\ heeft\\ een \\ uitilty \\ van \\ u_i\n",
    "$$\n",
    "\n",
    "\n",
    "\n",
    "\n",
    "Agents hebben altijd utility function waar ze de uitkomst van willen maximaliseren. Daarvoor zou de agent de beste(optimale) actie moeten nemen. Zolang de uitkomst van deze actie bekend staat bij de agent en de uitkomsten kans makkelijk te weergeven zijn. Een actie zou in dit geval ook strategie kunnen zijn, waardoor de handling naar strategie form of a game kan worden (bron1). \n",
    "Deze strategieën en hun utility zijn terug te vinden in de matrix.  \n"
   ]
  },
  {
   "cell_type": "markdown",
   "id": "f491d28d",
   "metadata": {},
   "source": [
    "- __Common-payoff game _(pure coordination games or team games)___\n",
    "\n",
    "    In dit soort games, voor elke action profiel hebben alle agents hetzelfde payoff. In dit geval hebben agents geen tegentrijdige interesse. Dus als we _u_ de utility functie is dan is dit de utility voor alle agents: \n",
    "    $ u(i) = u(j) $\n",
    "\n",
    "\n",
    "- __Zero-sum games__\n",
    "    In zero sum games gaat het over dat de maximale utility van alle agents (players) constant blijft. Ongeacht de actie die de agent kiest. Want alle commbinaties van de acties die gekozen worden leveren hetzelfde utility op. Denk hierbij aan _steen, papier, schaar_ er is geen winnaar als beide agents dezelfde actie uitkiezen. \n",
    "    In dit game er is altijd maar een winnaar en een verliezer. De beloning en de het verlies is voor beide agents gelijk aan de totale utility."
   ]
  },
  {
   "cell_type": "markdown",
   "id": "46f69e19",
   "metadata": {},
   "source": [
    "$\\color{Green}{\\text{Strategien in normal-form spellen}}\\$\n",
    "\n",
    "Aangezien agents dan acties kunnen uitvoeren, zoals we het in de vorige stukje over hebben gehad. Kan een agent ook volgens een strategie  handelen. Voorbeelden daarvan: \n",
    "\n",
    "\n",
    "- Pure strategy: Hierbij kiest de agent randomly 1 actie uit en voert hetzelfde actie de hele tijd uit. \n",
    "- Mixed strategy: Hierbij kiest de agent random 1 actie uit gegeven een kansdistributie.\n",
    "- Optimal startegy : Hierbij keist de agent het beste plan(waarbij hij de utility maxamaliseerd) of action en voert het uit. \n"
   ]
  },
  {
   "cell_type": "markdown",
   "id": "e173698b",
   "metadata": {},
   "source": [
    "$\\color{Green}{\\text{Pareto-optimality}}\\$\n",
    "\n",
    "Dit is een strategieprofiel voor een agent dat zijn eigen utility niet hoger/beter wordt zonder dat hij een andere agent er beschadigd. Op deze manier kunnen strategieën gedeeltelijk worden gesorteerd. Dit betekend niet dat er al een algehele optimale strategie gekozen kan worden, de utility van verschillende agents onderling kan niet altijd vergeleken worden.\n",
    "\n"
   ]
  },
  {
   "cell_type": "markdown",
   "id": "0ae44092",
   "metadata": {},
   "source": [
    "$\\color{Green}{\\text{Nash Equilibrium}}\\$\n",
    "\n",
    "\n",
    "Dit is een situatie waarbij een agent zijn eigen utility niet kan verhogen door een andere strategie te kiezen, zonder dat de andere agent ook zijn strategie aanpast.\n",
    "\n",
    "_Best response-methode_: Is de mixed strategy met de hoogste utility van alle mogelijke strategieën. Elke agent gaat steeds bedenken wat de beste reactie is gegeven de keuze van de andere agent. \n",
    "\n",
    "__Pareto-optimality is tegen overgestelde of Nash Equilibrium__\n"
   ]
  },
  {
   "cell_type": "markdown",
   "id": "065314d8",
   "metadata": {},
   "source": [
    "$\\color{Green}{\\text{Minmax en andere strategien}}\\$"
   ]
  },
  {
   "cell_type": "markdown",
   "id": "380df43f",
   "metadata": {},
   "source": [
    "Bij deze strategy  gaat de agent ervan uit dat andere agent de slechtste optie voor hem uitkiest. In dit geval kiest de agent de optie met hoogste payoff/utility die hem oplevert. \n",
    "\n",
    "De minimale waarde die hem opgeleverd wordt is in dit geval de _minimax value_\n"
   ]
  },
  {
   "cell_type": "markdown",
   "id": "a8c3766b",
   "metadata": {},
   "source": [
    "### Voorbeeld (steen, papier, schaar) : zero sum game "
   ]
  },
  {
   "cell_type": "markdown",
   "id": "a7034e1f",
   "metadata": {},
   "source": [
    "Bij het spel steen papier schaar kiest een agent een actie uit. Hieronder wordt de casus uitgeleged:"
   ]
  },
  {
   "cell_type": "markdown",
   "id": "4c44bd89",
   "metadata": {},
   "source": [
    "$ N = 2$ \n",
    "$ \\\\A(i) = A(j) = {`steen`, `papier`, `schaar`}  $ \n",
    "$ \\\\u = {1, -1, 0}$"
   ]
  },
  {
   "cell_type": "markdown",
   "id": "c0d28b8a",
   "metadata": {},
   "source": [
    "|         | Steen  | Papier | Schaar |   |\n",
    "|---------|--------|--------|--------|---|\n",
    "| Steen   | 0,0    | -1, 1  | 1, -1  |   |\n",
    "| Papier  | 1, -1  | 0,0    | -1, 1  |   |\n",
    "| Schaar  | -1, 1  | 1, -1  | 0,0    |   |\n",
    "       \n",
    "                                             Payoff matrix voor steen, papier en schaar\n",
    "\n",
    "Deze game is dus een zero sum game. Dat komt omdat een persoon kan winnen en de andere verliest. "
   ]
  },
  {
   "cell_type": "markdown",
   "id": "58cfa9f1",
   "metadata": {},
   "source": [
    "__Hoofdstuk 8:__ Communication\n",
    "\n",
    "### TODO: Spelling check is echt nodig :)\n"
   ]
  },
  {
   "cell_type": "markdown",
   "id": "d76a288d",
   "metadata": {},
   "source": [
    "\n",
    "### Doing by talking : cheap talk\n",
    "\n",
    "DIt is een communicatie protocol die dus acties kan produceren door te praten en informatie te wisselen tussen de agents. \n",
    "\n",
    "Babling envenwicht: In elke `cheap talk` game is er dus een partij die misleidende singalen stuurt die dan de tweede partij gaat negeren. \n",
    "\n",
    "Revealing evenwicht: Wanneer een evenewicht geen baling is, dan is het revealing. Dat houdt er in dat de partij gebruikt de ontavangen singalen op een andere mainer dan negeren. \n",
    "\n",
    "### Voorbeeld (Stag Hunt)\n",
    "$ N = 2$ \n",
    "$ \\\\A(i) = A(j) = {{`kill stag`, `kill rabbit`}}  $ \n",
    "$ \\\\u = {2, 1, 0}$\n"
   ]
  },
  {
   "cell_type": "markdown",
   "id": "4c3cdce9",
   "metadata": {},
   "source": [
    "|         | Stag   | Rabbit |   |\n",
    "|---------|--------|--------|   |\n",
    "| Stag    | 2,2    | 1,0    |   |\n",
    "| Rabbit  | 0,1    | 1,1    |   |\n",
    "                                   \n",
    "                                                   Payoff matrix voor stag hunt\n",
    "                                                   \n",
    "                                                   \n",
    " in dit spel behalen de spelers de hoogste payoff wanneer ze beslissen om samen te werken, oftewel de stag te jachen. Ze kunnen natuurlijk om samen voor de knoijnen te gaan waar ze dan ok payoff krijgen. Als ze ervoor kiezen om alleen te gaan jachen dan wint degene die de konijn ging jachen geen punten. \n",
    " \n",
    " Maar dan is de vraag hier, zou het informatie wisselen tussen de spelers/commuinceren de uitkomst voor het spel veranderen?  \n",
    " \n",
    " Als speler 1 roept \"ik ga de stag jachen\" dan hoopt hij dan speler 2 hem zou geloven. Alleen in dat geval zou speler 1 ook daadwerkijkelijk voor de stag gaan. \n",
    " Wanneer zou dit boodschap dan geloofwaardig zijn? In het gaval dat speler 2 weet dan speler 1 geen reden zou hebben om tegenover hem te ligen. Neem aan dat beide spelers geen winst zouden behalen als ze niet samenwerken. Dan zou in dit geval de boodschap \"ik ga de stag jachen\" veel geloofwaardiger zijn voor speler2. "
   ]
  },
  {
   "cell_type": "markdown",
   "id": "90040569",
   "metadata": {},
   "source": [
    "\n",
    "### Talking by doing \n",
    "Dit communicatie protcol houdt in dat een agnet onvolledige informatie heeft over het spel en dan acties neemt die louder zijn dan woorden. \n",
    "\n",
    "Signaling games: Dat houdt in dat speler 1 al vooraf weet wat de game is en welke opties voor hem het beste zijn. Op basis daarvan kan hij bepalen welke opties te spelen. De tweede speler heeft incompelete informatie over het spel. Dat veroorzaakt een beslisingsprobleem voor hem. Hij moet in dit geval elke keer de kans berekenen voor het kiezen van een actie gepaseerd op de singalen die hij terug krijgt van speler 1. Aangezien speler 1 een dominante rol speelt in dit game, gaat speler 2 vanuit dat speler 1 altijd de beste action voor zich zelf speelt. Daarop basieert hij zijn keuze. Wordt met Bayes’ rule gerekent\n",
    "\n",
    "\n",
    "Pooling equilibrium: Iedereen krijgt evenveel utility ongeacht de keuze die gemaakt wordt.\n",
    "\n",
    "Separating equilibrium: De uitilty(loon in het voorbeeld) wordt per nievau/keuze anders berekend. \n",
    "in het voorbeeld, is het onderwijs dat door een hooggetalenteerde werknemer wordt gekozen, zo ingesteld dat het onrendabel is\n",
    "voor elk type werknemer om het andere na te bootsen. Dit is alleen het geval als het volgende waar is, waarbij :\n",
    "\n",
    "$ θ: voor werknemer staat (H: hoog , l: laag)$ \n",
    "$ e : voor het onderwijst nievau staat$ \n",
    "\n",
    "$ θL(θH − θL) ≤ eH ≤ θH(θH − θL)$ "
   ]
  },
  {
   "cell_type": "markdown",
   "id": "dce658d8",
   "metadata": {},
   "source": [
    "__Hoofdstuk 9:__ Aggregating Preferences: Social\n",
    "Choice\n",
    "\n",
    "## TODO: werk een voting sysrteem in code uit :)"
   ]
  },
  {
   "cell_type": "markdown",
   "id": "f2eecd13",
   "metadata": {},
   "source": [
    "Een eenvoudig voorbeeld van het ontwerpersperspectief is stemmen. Hoe moet een centrale autoriteit de voorkeuren van verschillende actoren bundelen om zo goed mogelijk tegemoet te komen aan de wensen van de bevolking als geheel?\n",
    "\n",
    "Het blijkt dat stemmen, het soort dat bekend is van onze politieke en andere instellingen, slechts een speciaal geval is van de algemene klasse van sociale-keuzeproblemen. Sociale keuze is een motiverende maar niet-strategische theorie - agenten hebben voorkeuren, maar proberen deze niet te camoufleren om de uitkomst (bijvoorbeeld van stemmen) in hun persoonlijk voordeel te manipuleren."
   ]
  },
  {
   "cell_type": "markdown",
   "id": "1c29b5e4",
   "metadata": {},
   "source": [
    "### Condorcet condition\n",
    "Deze voorwaarde stelt dat als er een kandidaat $x$ bestaat, zodat voor alle andere kandidaten $y$ ten minste de helft van de kiezers $x$ boven $y$ verkiest, dan moet $x$ worden gekozen.\n",
    "\n",
    "In het voorbeeld in het boek wordt geproken over de voorkeuren van acties voor drie kinderen, dat wordt als volgt weergegeven:\n",
    "\n",
    "$$\\begin{aligned} a & \\succ b \\succ c \\\\ b &\\succ c \\succ a \\\\ c & \\succ b \\succ a \\end{aligned}$$\n",
    "\n",
    "In dit geval zou de condorcet condition $b$ kiezen, aangezien twee van de drie kinderen $b$ boven $a$ kiezen en $a$ boven $c$\n",
    "\n",
    "\n",
    "Echter kan de Condorcet condition ons in veel gevallen geen oplossing beiden, bijvoorbeeld in de volgende situatie:\n",
    "\n",
    "$$\\begin{aligned} a &\\succ b \\succ c \\\\ b &\\succ c \\succ a \\\\ c &\\succ a \\succ b \\end{aligned}$$\n",
    "\n",
    "Hier zien we dat er geen duidelijke voorkeur voor een actie is. "
   ]
  },
  {
   "cell_type": "markdown",
   "id": "807b2b92",
   "metadata": {},
   "source": [
    "### Voting \n",
    "#### Voring methods:\n",
    "\n",
    "1. __Plurality voting__: Elke voter stemt eenmaal. De kandidat met de hoogste stemen wint. \n",
    "2. __Cumulative voting__: Elke kiezer krijgt k stemmen, wat kan zijn\n",
    "willekeurig uitgebracht (er kunnen bijvoorbeeld meerdere stemmen op één kandidaat worden uitgebracht, terwijl de rest van de stemmen wordt verdeeld over andere kandidaten). De kandidaat met de\n",
    "meeste stemmen is geselecteerd\n",
    "3. __Approval voting__: Elke kiezer kan één stem uitbrengen voor evenveel\n",
    "van de kandidaten zoals hij dat wenst; de kandidaat met de meeste stemmen is geselecteerd\n",
    "4. __Plurality with elimination__:Elke kiezer brengt één stem uit voor:\n",
    "hun meest geprefereerde kandidaat. De kandidaat met de minste stemmen valt af.\n",
    "Elke kiezer die op de geëlimineerde kandidaat heeft gestemd, brengt een nieuwe stem uit op de\n",
    "kandidaat die hij het meest verkiest onder de kandidaten die niet zijn geëlimineerd.\n",
    "Dit proces wordt herhaald totdat er nog maar één kandidaat over is.\n",
    "5. __Borda voting__:Elke kiezer dient een volledige orde op de kandidaten. Deze volgorde levert punten op voor elke kandidaat; als er n kandidaten zijn,\n",
    "het draagt n − 1 punten bij aan de hoogst gerangschikte kandidaat, n − 2 punten aan de op één na hoogste, enzovoort; het draagt geen punten bij aan de laagst gerangschikte kandidaat. De\n",
    "winnaars zijn degenen wiens totale som van de punten van alle kiezers maximaal is.\n",
    "6. __Pairwise elimination__: Kiezers krijgen vooraf een schema\n",
    "voor de volgorde waarin kandidatenparen worden vergeleken. Gegeven twee kandidaten (en op basis van de voorkeursvolgorde van elke kiezer) bepaalt u de kandidaat die elk\n",
    "kiezer verkiest. De kandidaat die de voorkeur heeft van een minderheid van de kiezers wordt geëlimineerd,\n",
    "en het volgende paar niet-beperkte kandidaten in het schema wordt overwogen. Ga door totdat er nog maar één kandidaat over is."
   ]
  },
  {
   "attachments": {
    "image-2.png": {
     "image/png": "[encoded data removed]"
    }
   },
   "cell_type": "markdown",
   "id": "9d3be2cc",
   "metadata": {},
   "source": [
    "### Voting paradoxes\n",
    "\n",
    "Op dit punt is het redelijk om je af te vragen waarom er zoveel stemschema's zijn uitgevonden. Wat zijn hun sterke en zwakke punten? En of er een stemmethode die geschikt is voor alle omstandigheden?\n",
    "\n",
    "__Condorcet condition__\n",
    "\n",
    "Dit hebben we eerder besproken, maar laten we nu een grootschalige voorbeeld pakken. Stel je voor dat er een situatie is waarin 1000 agents op drie opties gestemd hebben. Dat zijn opties a, b en c. Hieronder zie je het aantaal stemmen per optie:\n",
    "\n",
    "\n",
    "\n",
    "$$\\begin{aligned} 499 agents : a &\\succ b \\succ c \\\\ 3 agents:  b &\\succ c \\succ a \\\\ 489 agents: c &\\succ a \\succ b \\end{aligned}$$\n",
    "\n",
    "501 van de 1000 agents geven de voorkeur aan $b$ boven $a$, en 502 geven de voorkeur aan $b$ boven $c$; dit zou $b$ de Condorcet-winnaar maken. Maar veel van de andere stemmethoden zouden $b$ niet selecteren om de winnaar te zijn, hieronder zie we een overzicht van de winnar bij andere methodes:\n",
    "\n",
    " 1. Plurality voting: Zou $a$ kiezen omdat het hoogste aantal stemmen heeft ontvangen.\n",
    " 2. Plurality with elimination: Zou ook $a$ uitkiezen omdat dan $b$ als eerste kandidaat wordt geëlimineerd.\n",
    " 3. Borda voting: Hier zou $b$ wel als winnaar gekozen worden. \n",
    "\n",
    "__Sensitivity to a losing candidate__\n",
    "\n",
    "Bij deze methode wordt een derde kandidaat die geen kans maakt om te winnen als 'spoiler' gezien. Zie het voorbeeld hier onder:\n",
    "\n",
    "![image-2.png](attachment:image-2.png)\n",
    "\n",
    "1. Plurality voting: zou $a $ kiezen als winnar, maar als $c$ weggehaaldt wordt $b$ uitgekozen tot winnaar. \n",
    "De vorige situatie geldt ook bij Borda voting. \n",
    "\n",
    "\n",
    "__Sensitivity to the agenda setter__\n",
    "\n",
    "Met pairwise elimination kan de agenda-setter een significante invloed hebben op de geselecteerde uitkomst (zie in het boek 9.3). In het boek wordt een voorbeeld behandeld waardoor een bepaalde kandidaten tegen elkaar uit te spelen, kunnen kandidaten die anders hadden gewonnen worden uitgeschakeld en andersom is ook waar. "
   ]
  },
  {
   "cell_type": "markdown",
   "id": "1dc90c6a",
   "metadata": {},
   "source": [
    "__Hoofdstuk 12:__ Teams of Selfish Agents: An\n",
    "Introduction to Coalitional Game\n",
    "Theory"
   ]
  },
  {
   "cell_type": "markdown",
   "id": "bb9e9457",
   "metadata": {},
   "source": [
    "1. __Transferable utility__\n",
    "2. __Games en payoffs__\n",
    "3. __Shapley value__\n",
    "4. __Core en varianten daarop__\n",
    "5. __Representatie__"
   ]
  },
  {
   "cell_type": "code",
   "execution_count": null,
   "id": "fe589e21",
   "metadata": {},
   "outputs": [],
   "source": []
  }
 ],
 "metadata": {
  "kernelspec": {
   "display_name": "Python 3 (ipykernel)",
   "language": "python",
   "name": "python3"
  },
  "language_info": {
   "codemirror_mode": {
    "name": "ipython",
    "version": 3
   },
   "file_extension": ".py",
   "mimetype": "text/x-python",
   "name": "python",
   "nbconvert_exporter": "python",
   "pygments_lexer": "ipython3",
   "version": "3.9.7"
  }
 },
 "nbformat": 4,
 "nbformat_minor": 5
}
