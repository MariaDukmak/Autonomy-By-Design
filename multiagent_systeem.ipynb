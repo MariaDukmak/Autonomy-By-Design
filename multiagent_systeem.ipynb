{
 "cells": [
  {
   "cell_type": "markdown",
   "id": "60ff5e1d",
   "metadata": {},
   "source": [
    "# Introductie multiagent systems\n"
   ]
  },
  {
   "cell_type": "markdown",
   "id": "e320928a",
   "metadata": {},
   "source": [
    "__Hoofdstuk 3__: Introduction to Noncooperative Game\n",
    "Theory: Games in Normal Form"
   ]
  },
  {
   "cell_type": "markdown",
   "id": "11c3020d",
   "metadata": {},
   "source": [
    "### Belangrijke begrippen uitleggen"
   ]
  },
  {
   "cell_type": "markdown",
   "id": "de7e406f",
   "metadata": {},
   "source": [
    "$\\color{Green}{\\text{Utility & Utility function}}\\$\n",
    "\n",
    "Het hoofd idee van de utility theory is heel eenvoudig: de voorkeuren van een agent voor mogelijke uitkomsten kunnen worden vastgelegd door een functie die deze uitkomsten toewijst aan een reëel getal; hoe hoger het getal, hoe meer de agent van die uitkomst houdt. De functie wordt een Utility function genoemd.\n",
    "\n",
    "Uitilty based agents gaan altijd voor zo hoog mogelijk utility, daarbij proberen ze de uitilty functie te maximaliseren.\n"
   ]
  },
  {
   "cell_type": "markdown",
   "id": "a3326506",
   "metadata": {},
   "source": [
    "$\\color{Green}{\\text{Normal-form spellen}}\\$\n",
    "\n",
    "\n",
    "Normal form is een matrix representatie van een game. Hier hoort de volgende definition bij: \n",
    "\n",
    "\n",
    "\n",
    "$$\n",
    "    (N, A, u)\n",
    "    \\\\ N: Aantal\\ agents/players\n",
    "    \\\\ A: Set \\ van \\ de \\ mogelijke \\ acties, agent \\ i \\ heeft \\ set \\ A_i  \\ aan  \\ acties \n",
    "    \\\\u: Utility \\ functie/payoff, actie \\  i voor \\ een\\ heeft\\ een \\ uitilty \\ van \\ u_i\n",
    "$$\n",
    "\n",
    "\n",
    "\n",
    "\n",
    "Agents hebben altijd utility function waar ze de uitkomst van willen maximaliseren. Daarvoor zou de agent de beste(optimale) actie moeten nemen. Zolang de uitkomst van deze actie bekend staat bij de agent en de uitkomsten kans makkelijk te weergeven zijn. Een actie zou in dit geval ook strategie kunnen zijn, waardoor de handling naar strategie form of a game kan worden (bron1). \n",
    "Deze strategieën en hun utility zijn terug te vinden in de matrix.  \n"
   ]
  },
  {
   "cell_type": "markdown",
   "id": "f491d28d",
   "metadata": {},
   "source": [
    "- __Common-payoff game _(pure coordination games or team games)___\n",
    "\n",
    "    In dit soort games, voor elke action profiel hebben alle agents hetzelfde payoff. In dit geval hebben agents geen tegentrijdige interesse. Dus als we _u_ de utility functie is dan is dit de utility voor alle agents: \n",
    "    $ u(i) = u(j) $\n",
    "\n",
    "\n",
    "- __Zero-sum games__\n",
    "    In zero sum games gaat het over dat de maximale utility van alle agents (players) constant blijft. Ongeacht de actie die de agent kiest. Want alle commbinaties van de acties die gekozen worden leveren hetzelfde utility op. Denk hierbij aan _steen, papier, schaar_ er is geen winnaar als beide agents dezelfde actie uitkiezen. \n",
    "    In dit game er is altijd maar een winnaar en een verliezer. De beloning en de het verlies is voor beide agents gelijk aan de totale utility."
   ]
  },
  {
   "cell_type": "markdown",
   "id": "46f69e19",
   "metadata": {},
   "source": [
    "$\\color{Green}{\\text{Strategien in normal-form spellen}}\\$\n",
    "\n",
    "Aangezien agents dan acties kunnen uitvoeren, zoals we het in de vorige stukje over hebben gehad. Kan een agent ook volgens een strategie  handelen. Voorbeelden daarvan: \n",
    "\n",
    "\n",
    "- Pure strategy: Hierbij kiest de agent randomly 1 actie uit en voert hetzelfde actie de hele tijd uit. \n",
    "- Mixed strategy: Hierbij kiest de agent random 1 actie uit gegeven een kansdistributie.\n",
    "- Optimal startegy : Hierbij keist de agent het beste plan(waarbij hij de utility maxamaliseerd) of action en voert het uit. \n"
   ]
  },
  {
   "cell_type": "markdown",
   "id": "e173698b",
   "metadata": {},
   "source": [
    "$\\color{Green}{\\text{Pareto-optimality}}\\$\n",
    "\n",
    "Dit is een strategieprofiel voor een agent dat zijn eigen utility niet hoger/beter wordt zonder dat hij een andere agent er beschadigd. Op deze manier kunnen strategieën gedeeltelijk worden gesorteerd. Dit betekend niet dat er al een algehele optimale strategie gekozen kan worden, de utility van verschillende agents onderling kan niet altijd vergeleken worden.\n",
    "\n"
   ]
  },
  {
   "cell_type": "markdown",
   "id": "0ae44092",
   "metadata": {},
   "source": [
    "$\\color{Green}{\\text{Nash Equilibrium}}\\$\n",
    "\n",
    "\n",
    "Dit is een situatie waarbij een agent zijn eigen utility niet kan verhogen door een andere strategie te kiezen, zonder dat de andere agent ook zijn strategie aanpast.\n",
    "\n",
    "_Best response-methode_: Is de mixed strategy met de hoogste utility van alle mogelijke strategieën. Elke agent gaat steeds bedenken wat de beste reactie is gegeven de keuze van de andere agent. \n",
    "\n",
    "__Pareto-optimality is tegen overgestelde of Nash Equilibrium__\n"
   ]
  },
  {
   "cell_type": "markdown",
   "id": "065314d8",
   "metadata": {},
   "source": [
    "$\\color{Green}{\\text{Minmax en andere strategien}}\\$"
   ]
  },
  {
   "cell_type": "markdown",
   "id": "380df43f",
   "metadata": {},
   "source": [
    "Bij deze strategy  gaat de agent ervan uit dat andere agent de slechtste optie voor hem uitkiest. In dit geval kiest de agent de optie met hoogste payoff/utility die hem oplevert. \n",
    "\n",
    "De minimale waarde die hem opgeleverd wordt is in dit geval de _minimax value_\n"
   ]
  },
  {
   "cell_type": "markdown",
   "id": "a8c3766b",
   "metadata": {},
   "source": [
    "### Voorbeeld (steen, papier, schaar) : zero sum game "
   ]
  },
  {
   "cell_type": "markdown",
   "id": "a7034e1f",
   "metadata": {},
   "source": [
    "Bij het spel steen papier schaar kiest een agent een actie uit. Hieronder wordt de casus uitgeleged:"
   ]
  },
  {
   "cell_type": "markdown",
   "id": "4c44bd89",
   "metadata": {},
   "source": [
    "$ N = 2$ \n",
    "$ \\\\A(i) = A(j) = {`steen`, `papier`, `schaar`}  $ \n",
    "$ \\\\u = {1, -1}$"
   ]
  },
  {
   "cell_type": "markdown",
   "id": "c0d28b8a",
   "metadata": {},
   "source": [
    "|         | Steen  | Papier | Schaar |   |\n",
    "|---------|--------|--------|--------|---|\n",
    "| Steen   | 0,0    | -1, 1  | 1, -1  |   |\n",
    "| Papier  | 1, -1  | 0,0    | -1, 1  |   |\n",
    "| Schaar  | -1, 1  | 1, -1  | 0,0    |   |\n",
    "       \n",
    "                                             Payoff matrix voor steen, papier en schaar\n",
    "\n",
    "Deze game is dus een zero sum game. Dat komt omdat een persoon kan winnen en de andere verliest. "
   ]
  },
  {
   "cell_type": "markdown",
   "id": "d76a288d",
   "metadata": {},
   "source": [
    "# TODO:\n",
    "### Voorbeeld (Stag Hunt)"
   ]
  }
 ],
 "metadata": {
  "kernelspec": {
   "display_name": "Python 3 (ipykernel)",
   "language": "python",
   "name": "python3"
  },
  "language_info": {
   "codemirror_mode": {
    "name": "ipython",
    "version": 3
   },
   "file_extension": ".py",
   "mimetype": "text/x-python",
   "name": "python",
   "nbconvert_exporter": "python",
   "pygments_lexer": "ipython3",
   "version": "3.9.7"
  }
 },
 "nbformat": 4,
 "nbformat_minor": 5
}
